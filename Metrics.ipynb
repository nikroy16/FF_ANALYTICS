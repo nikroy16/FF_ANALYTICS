{
 "metadata": {
  "name": "Metrics"
 }, 
 "nbformat": 2, 
 "worksheets": [
  {
   "cells": [
    {
     "cell_type": "code", 
     "collapsed": true, 
     "input": [
      "import numpy as np", 
      "import pandas as pd", 
      "import ast", 
      "import matplotlib.pyplot as plt", 
      "from scipy.stats import norm"
     ], 
     "language": "python", 
     "outputs": [], 
     "prompt_number": 480
    }, 
    {
     "cell_type": "code", 
     "collapsed": false, 
     "input": [
      "#####SCORING FORMAT#####", 
      "pts_per_td = 6", 
      "pts_per_pass_td = 4", 
      "pts_per_yd = 0.1", 
      "pts_per_pass_yd = 0.04", 
      "pts_per_fum = 2", 
      "pts_per_int = 2", 
      "", 
      "#####LEAGUE FORMAT#######", 
      "num_teams = 10", 
      "budget = 200", 
      "roster_size = 16", 
      "starting_qb = 1", 
      "starting_rb = 2", 
      "starting_wr = 2", 
      "starting_flex = 1", 
      "starting_te = 1", 
      "starting_d = 1", 
      "starting_k = 1", 
      "max_qb = 4", 
      "max_rb = 8", 
      "max_wr = 8", 
      "max_te = 3", 
      "max_d = 3", 
      "max_k = 3", 
      "", 
      "", 
      "#####RISK FACTOR#####", 
      "risk = 0.4", 
      "", 
      "", 
      "def load_data(position, year):", 
      "    return pd.read_pickle('Player_Data/' + position + \"_\" + year + \".pkl\")", 
      "", 
      "def load_proj(position):", 
      "    if position == 'QB':", 
      "        col_headers = ['Player', 'Team', 'Pass_Att', 'Comp', 'Pass_Yds', 'Pass_Tds', 'Int', 'Rush_Att', 'Rush_Yds', 'Rush Tds', 'Fum', 'Fan_Pts']", 
      "        return pd.read_csv('Player_Data/' + 'FantasyPros_Fantasy_Football_Rankings_' + position + '.csv', sep='\\t', names = col_headers, index_col = 'Player')", 
      "    if position == 'RB':", 
      "        col_headers = ['Player','Team','Rush_Att','Rush_Yds','Rush_TD','Rec_Att','Rec_Yds','Rec_TD', 'Fum', 'Fan_Pts'] ", 
      "        return pd.read_csv('Player_Data/' + 'FantasyPros_Fantasy_Football_Rankings_' + position + '.csv', sep='\\t', names = col_headers, index_col = 'Player')", 
      "    if position == 'TE':", 
      "        col_headers = ['Player','Team','Rec_Att','Rec_Yds','Rec_TD','Fum','Fan_Pts']", 
      "        return pd.read_csv('Player_Data/' + 'FantasyPros_Fantasy_Football_Rankings_' + position + '.csv', sep='\\t', names = col_headers, index_col = 'Player')", 
      "    if position == 'WR':", 
      "        col_headers = ['Player','Team','Rush_Att','Rush_Yds','Rush_TD','Rec_Att','Rec_Yds','Rec_TD','Fum','Fan_Pts'] ", 
      "        return pd.read_csv('Player_Data/' + 'FantasyPros_Fantasy_Football_Rankings_' + position + '.csv', sep='\\t', names = col_headers, index_col = 'Player')", 
      "        ", 
      "", 
      "    ", 
      "", 
      "#returns series of avgs", 
      "def extract_avg(df, stat):", 
      "    return df[stat].unstack().T.apply(lambda x: x[0]/(len(x[x.notnull()]) - 1))", 
      "", 
      "", 
      "#add fantasy column", 
      "def fantasy(df):", 
      "    ", 
      "    if (df.columns.values == 'Fan_Pts').any():", 
      "        ", 
      "        return", 
      "    ", 
      "        ", 
      "    elif (df.columns.values == 'Punt_Ret_TD').any():", 
      "        arr = np.empty(18)", 
      "", 
      "        for i in range(0,18):", 
      "            arr = pts_per_td* df['Rec_TD'] + pts_per_yd* df['Rec_Yds'] + pts_per_td*df['Kickoff_TD'] + pts_per_td*df['Punt_Ret_TD'] - pts_per_fum*df['FumL']", 
      "        ", 
      "        df['Fan_Pts'] = pd.Series(arr)", 
      "        ", 
      "    elif (df.columns.values == 'Pass_TD').any():", 
      "        ", 
      "        arr = pts_per_pass_td * df['Pass_TD'] + pts_per_td * df['Rush_TD'] + pts_per_pass_yd*df['Pass_Yds'] + pts_per_yd*df['Rush_Yds'] - pts_per_fum*df['FumL'] - pts_per_int*df['Int']", 
      "        df['Fan_Pts'] = pd.Series(arr)", 
      "    ", 
      "    else:", 
      "    ", 
      "        ", 
      "        for i in range(0,18):", 
      "            arr = pts_per_td*df['Rec_TD'] + pts_per_td*df['Rush_TD'] + pts_per_yd*df['Rec_Yds'] + pts_per_yd*df['Rush_Yds']- pts_per_fum*df['FumL']", 
      "        df['Fan_Pts'] = pd.Series(arr)", 
      "        ", 
      "        ", 
      "#add vbd column", 
      "", 
      "def vbd(df, num_starters, num_on_roster):", 
      "    ", 
      "    if(df.columns.values == 'VBD').any():", 
      "        print 'gettin here'", 
      "        df = df.drop('VBD', 1)", 
      "        ", 
      "    ", 
      "    x = df['Fan_Pts']", 
      "    ", 
      "    '''", 
      "    baseline_low = x.values[num_on_roster*num_teams - 1]", 
      "    baseline_high = x.values[num_teams*num_starters - 1]", 
      "    vbd_starters = x.head(num_starters*num_teams) - baseline_high", 
      "    vbd_bench = x.tail(len(x) - (num_starters * num_teams)) - baseline_low", 
      "    vbd = vbd_starters.append(vbd_bench)", 
      "    vbd.sort(ascending = False)", 
      "    starters = vbd.head(num_teams * num_starters - 1)", 
      "    starters = starters * (1 - risk)", 
      "    bench = vbd.tail(1 + len(vbd) - num_teams * num_starters)", 
      "    bench = bench * risk", 
      "", 
      "    df['VBD'] = starters.append(bench)", 
      "    '''", 
      "    ", 
      "    baseline_low = x.values[num_on_roster*num_teams - 1]", 
      "    ", 
      "    ", 
      "    vbd= x - baseline_low", 
      "   ", 
      "    vbd.sort(ascending = False)", 
      "    starters = vbd.head(num_teams * num_starters - 1)", 
      "    starters = starters * (1 - risk)", 
      "    bench = vbd.tail(1 + len(vbd) - num_teams * num_starters)", 
      "    bench = bench * risk", 
      "    #print df", 
      "    df['VBD'] = starters.append(bench)", 
      "    ", 
      "    ", 
      "        ", 
      "    ", 
      "    ", 
      "        ", 
      "    ", 
      "    ", 
      "    ", 
      "    ", 
      "", 
      "", 
      "        ", 
      "    ", 
      "    ", 
      "", 
      "", 
      "", 
      "", 
      "", 
      "", 
      "", 
      "    ", 
      "    ", 
      "", 
      "", 
      "", 
      "    "
     ], 
     "language": "python", 
     "outputs": [], 
     "prompt_number": 528
    }, 
    {
     "cell_type": "code", 
     "collapsed": false, 
     "input": [
      "wr_2013 = load_data(\"WR\", \"2013\")", 
      "rb_2013 = load_data(\"RB\", \"2013\")", 
      "te_2013 = load_data(\"TE\", \"2013\")", 
      "qb_2013 = load_data(\"QB\", \"2013\")", 
      "fantasy(wr_2013)", 
      "fantasy(rb_2013)", 
      "fantasy(te_2013)", 
      "fantasy(qb_2013)", 
      "wr_2013.index.names = ['Player', 'Week']", 
      "rb_2013.index.names = ['Player', 'Week']", 
      "te_2013.index.names = ['Player', 'Week']", 
      "qb_2013.index.names = ['Player', 'Week']", 
      "wr_2013 = wr_2013.sort('Fan_Pts', ascending = False)", 
      "rb_2013 = rb_2013.sort('Fan_Pts', ascending = False)", 
      "te_2013 = te_2013.sort('Fan_Pts', ascending = False)", 
      "qb_2013 = qb_2013.sort('Fan_Pts', ascending = False)", 
      "", 
      "flex_2013 = rb_2013.append(wr_2013)", 
      "flex_2013 = flex_2013.sort(columns = 'Fan_Pts', ascending = False)", 
      "", 
      "qb_proj = load_proj(\"QB\")", 
      "rb_proj = load_proj(\"RB\")", 
      "te_proj = load_proj(\"TE\")", 
      "wr_proj = load_proj(\"WR\")", 
      "", 
      "vbd(rb_proj, starting_rb, 4.5)", 
      "vbd(qb_proj, starting_qb, 1.5)", 
      "vbd(wr_proj, starting_wr, 4.5)", 
      "vbd(te_proj, starting_te, 1.1)", 
      "", 
      "", 
      "flex_proj = rb_proj.append(wr_proj)", 
      "flex_proj = flex_proj.sort(columns = 'Fan_Pts',ascending = False)"
     ], 
     "language": "python", 
     "outputs": [], 
     "prompt_number": 545
    }, 
    {
     "cell_type": "code", 
     "collapsed": false, 
     "input": [
      "", 
      "", 
      "#wr_total_rec = topN(wr_2013, \"Rec_TD\", 15, 0)", 
      "wr_avg_rec = extract_avg(wr_2013, 'Rec')", 
      "wr_avg_rec.sort(ascending = False)", 
      "print wr_avg_rec.head(10)", 
      "#fantasy(qb_2013)", 
      "#qb_2013.ix['Aaron Rodgers']"
     ], 
     "language": "python", 
     "outputs": [
      {
       "output_type": "stream", 
       "stream": "stdout", 
       "text": [
        "Player", 
        "Julio Jones         8.200000", 
        "Justin Blackmon     7.250000", 
        "Pierre Garcon       7.062500", 
        "Antonio Brown       6.875000", 
        "Andre Johnson       6.812500", 
        "Julian Edelman      6.562500", 
        "Brandon Marshall    6.250000", 
        "Josh Gordon         6.214286", 
        "A.J. Green          6.125000", 
        "Calvin Johnson      6.000000", 
        "dtype: float64"
       ]
      }
     ], 
     "prompt_number": 508
    }, 
    {
     "cell_type": "code", 
     "collapsed": false, 
     "input": [], 
     "language": "python", 
     "outputs": [], 
     "prompt_number": 319
    }, 
    {
     "cell_type": "code", 
     "collapsed": false, 
     "input": [
      "#determine last starting player's vbd using bench baseline..then determine all othe starting players vbd relative to last starting player", 
      "# multiply starting players vbd by 1-r and rest by r", 
      ""
     ], 
     "language": "python", 
     "outputs": [], 
     "prompt_number": 190
    }, 
    {
     "cell_type": "code", 
     "collapsed": false, 
     "input": [
      "", 
      "", 
      "", 
      "final_list = rb_proj['VBD'].append(qb_proj['VBD']).append(wr_proj['VBD']).append(te_proj['VBD'])", 
      "final_list = final_list * (.555)", 
      "final_list.sort(ascending = False)", 
      "#final_list.head(60)", 
      "x = rb_proj['VBD']*.555", 
      "x.head(25)", 
      "", 
      "#print qb_proj['Fan_Pts']", 
      "", 
      "", 
      ""
     ], 
     "language": "python", 
     "outputs": [
      {
       "output_type": "pyout", 
       "prompt_number": 547, 
       "text": [
        "Player", 
        "Jamaal Charles      57.7422", 
        "LeSean McCoy        53.8461", 
        "Matt Forte          49.3506", 
        "Adrian Peterson     47.4192", 
        "Eddie Lacy          41.8248", 
        "DeMarco Murray      38.2617", 
        "Montee Ball         37.6290", 
        "Le'Veon Bell        37.2960", 
        "Marshawn Lynch      37.0296", 
        "Giovani Bernard     35.7309", 
        "Arian Foster        35.4978", 
        "Doug Martin         34.8651", 
        "Alfred Morris       32.8005", 
        "Zac Stacy           32.3343", 
        "Toby Gerhart        30.2697", 
        "Andre Ellington     29.0376", 
        "Bishop Sankey       26.7732", 
        "Ryan Mathews        24.9084", 
        "Reggie Bush         24.4755", 
        "Frank Gore          15.9174", 
        "C.J. Spiller        15.8952", 
        "Ray Rice            15.6288", 
        "Joique Bell         15.4068", 
        "Trent Richardson    15.2736", 
        "Rashad Jennings     15.1626", 
        "Name: VBD, dtype: float64"
       ]
      }
     ], 
     "prompt_number": 547
    }, 
    {
     "cell_type": "code", 
     "collapsed": false, 
     "input": [
      "", 
      "", 
      ""
     ], 
     "language": "python", 
     "outputs": [], 
     "prompt_number": 454
    }, 
    {
     "cell_type": "code", 
     "collapsed": false, 
     "input": [
      "", 
      ""
     ], 
     "language": "python", 
     "outputs": [
      {
       "ename": "ValueError", 
       "evalue": "cannot reindex from a duplicate axis", 
       "output_type": "pyerr", 
       "traceback": [
        "\u001b[0;31m---------------------------------------------------------------------------\u001b[0m\n\u001b[0;31mValueError\u001b[0m                                Traceback (most recent call last)", 
        "\u001b[0;32m/home/nikroy16/PythonDataAnalytics/FF_Analytics/<ipython-input-309-9f643520a80c>\u001b[0m in \u001b[0;36m<module>\u001b[0;34m()\u001b[0m\n\u001b[1;32m     20\u001b[0m \u001b[0my\u001b[0m \u001b[0;34m=\u001b[0m \u001b[0mstarters\u001b[0m\u001b[0;34m.\u001b[0m\u001b[0mappend\u001b[0m\u001b[0;34m(\u001b[0m\u001b[0mbench\u001b[0m\u001b[0;34m)\u001b[0m\u001b[0;34m\u001b[0m\u001b[0m\n\u001b[1;32m     21\u001b[0m \u001b[0;32mprint\u001b[0m \u001b[0my\u001b[0m\u001b[0;34m[\u001b[0m\u001b[0;34m'Zach Miller'\u001b[0m\u001b[0;34m]\u001b[0m\u001b[0;34m\u001b[0m\u001b[0m\n\u001b[0;32m---> 22\u001b[0;31m \u001b[0mte_proj\u001b[0m\u001b[0;34m[\u001b[0m\u001b[0;34m'VBD'\u001b[0m\u001b[0;34m]\u001b[0m \u001b[0;34m=\u001b[0m \u001b[0my\u001b[0m\u001b[0;34m\u001b[0m\u001b[0m\n\u001b[0m\u001b[1;32m     23\u001b[0m \u001b[0;31m#te_proj['VBD'] = pd.Series()\u001b[0m\n\u001b[0;34m\u001b[0m\u001b[0m\n\u001b[1;32m     24\u001b[0m \u001b[0;31m#print te_proj['Calvin Johnson']\u001b[0m\n\u001b[0;34m\u001b[0m\u001b[0m\n", 
        "\u001b[0;32m/usr/local/lib/python2.7/dist-packages/pandas/core/frame.pyc\u001b[0m in \u001b[0;36m__setitem__\u001b[0;34m(self, key, value)\u001b[0m\n\u001b[1;32m   2005\u001b[0m         \u001b[0;32melse\u001b[0m\u001b[0;34m:\u001b[0m\u001b[0;34m\u001b[0m\u001b[0m\n\u001b[1;32m   2006\u001b[0m             \u001b[0;31m# set column\u001b[0m\n\u001b[0;34m\u001b[0m\u001b[0m\n\u001b[0;32m-> 2007\u001b[0;31m             \u001b[0mself\u001b[0m\u001b[0;34m.\u001b[0m\u001b[0m_set_item\u001b[0m\u001b[0;34m(\u001b[0m\u001b[0mkey\u001b[0m\u001b[0;34m,\u001b[0m \u001b[0mvalue\u001b[0m\u001b[0;34m)\u001b[0m\u001b[0;34m\u001b[0m\u001b[0m\n\u001b[0m\u001b[1;32m   2008\u001b[0m \u001b[0;34m\u001b[0m\u001b[0m\n\u001b[1;32m   2009\u001b[0m     \u001b[0;32mdef\u001b[0m \u001b[0m_setitem_slice\u001b[0m\u001b[0;34m(\u001b[0m\u001b[0mself\u001b[0m\u001b[0;34m,\u001b[0m \u001b[0mkey\u001b[0m\u001b[0;34m,\u001b[0m \u001b[0mvalue\u001b[0m\u001b[0;34m)\u001b[0m\u001b[0;34m:\u001b[0m\u001b[0;34m\u001b[0m\u001b[0m\n", 
        "\u001b[0;32m/usr/local/lib/python2.7/dist-packages/pandas/core/frame.pyc\u001b[0m in \u001b[0;36m_set_item\u001b[0;34m(self, key, value)\u001b[0m\n\u001b[1;32m   2083\u001b[0m         \u001b[0mis_existing\u001b[0m \u001b[0;34m=\u001b[0m \u001b[0mkey\u001b[0m \u001b[0;32min\u001b[0m \u001b[0mself\u001b[0m\u001b[0;34m.\u001b[0m\u001b[0mcolumns\u001b[0m\u001b[0;34m\u001b[0m\u001b[0m\n\u001b[1;32m   2084\u001b[0m         \u001b[0mself\u001b[0m\u001b[0;34m.\u001b[0m\u001b[0m_ensure_valid_index\u001b[0m\u001b[0;34m(\u001b[0m\u001b[0mvalue\u001b[0m\u001b[0;34m)\u001b[0m\u001b[0;34m\u001b[0m\u001b[0m\n\u001b[0;32m-> 2085\u001b[0;31m         \u001b[0mvalue\u001b[0m \u001b[0;34m=\u001b[0m \u001b[0mself\u001b[0m\u001b[0;34m.\u001b[0m\u001b[0m_sanitize_column\u001b[0m\u001b[0;34m(\u001b[0m\u001b[0mkey\u001b[0m\u001b[0;34m,\u001b[0m \u001b[0mvalue\u001b[0m\u001b[0;34m)\u001b[0m\u001b[0;34m\u001b[0m\u001b[0m\n\u001b[0m\u001b[1;32m   2086\u001b[0m         \u001b[0mNDFrame\u001b[0m\u001b[0;34m.\u001b[0m\u001b[0m_set_item\u001b[0m\u001b[0;34m(\u001b[0m\u001b[0mself\u001b[0m\u001b[0;34m,\u001b[0m \u001b[0mkey\u001b[0m\u001b[0;34m,\u001b[0m \u001b[0mvalue\u001b[0m\u001b[0;34m)\u001b[0m\u001b[0;34m\u001b[0m\u001b[0m\n\u001b[1;32m   2087\u001b[0m \u001b[0;34m\u001b[0m\u001b[0m\n", 
        "\u001b[0;32m/usr/local/lib/python2.7/dist-packages/pandas/core/frame.pyc\u001b[0m in \u001b[0;36m_sanitize_column\u001b[0;34m(self, key, value)\u001b[0m\n\u001b[1;32m   2129\u001b[0m                     \u001b[0;31m# duplicate axis\u001b[0m\n\u001b[0;34m\u001b[0m\u001b[0m\n\u001b[1;32m   2130\u001b[0m                     \u001b[0;32mif\u001b[0m \u001b[0;32mnot\u001b[0m \u001b[0mvalue\u001b[0m\u001b[0;34m.\u001b[0m\u001b[0mindex\u001b[0m\u001b[0;34m.\u001b[0m\u001b[0mis_unique\u001b[0m\u001b[0;34m:\u001b[0m\u001b[0;34m\u001b[0m\u001b[0m\n\u001b[0;32m-> 2131\u001b[0;31m                         \u001b[0;32mraise\u001b[0m \u001b[0me\u001b[0m\u001b[0;34m\u001b[0m\u001b[0m\n\u001b[0m\u001b[1;32m   2132\u001b[0m \u001b[0;34m\u001b[0m\u001b[0m\n\u001b[1;32m   2133\u001b[0m                     \u001b[0;31m# other\u001b[0m\n\u001b[0;34m\u001b[0m\u001b[0m\n", 
        "\u001b[0;31mValueError\u001b[0m: cannot reindex from a duplicate axis"
       ]
      }, 
      {
       "output_type": "stream", 
       "stream": "stdout", 
       "text": [
        "Index([u'Team', u'Rec_Att', u'Rec_Yds', u'Rec_TD', u'Fum', u'Fan_Pts'], dtype='object')", 
        "Zach Miller   -2.42", 
        "Zach Miller   -7.86", 
        "Name: Fan_Pts, dtype: float64"
       ]
      }
     ], 
     "prompt_number": 309
    }, 
    {
     "cell_type": "code", 
     "collapsed": false, 
     "input": [], 
     "language": "python", 
     "outputs": [
      {
       "html": [
        "<div style=\"max-height:1000px;max-width:1500px;overflow:auto;\">", 
        "<table border=\"1\" class=\"dataframe\">", 
        "  <thead>", 
        "    <tr style=\"text-align: right;\">", 
        "      <th></th>", 
        "      <th>1</th>", 
        "      <th>2</th>", 
        "      <th>3</th>", 
        "    </tr>", 
        "  </thead>", 
        "  <tbody>", 
        "    <tr>", 
        "      <th>0</th>", 
        "      <td> 2</td>", 
        "      <td> 5</td>", 
        "      <td> 9</td>", 
        "    </tr>", 
        "    <tr>", 
        "      <th>1</th>", 
        "      <td> 3</td>", 
        "      <td> 6</td>", 
        "      <td> 9</td>", 
        "    </tr>", 
        "    <tr>", 
        "      <th>2</th>", 
        "      <td> 4</td>", 
        "      <td> 7</td>", 
        "      <td> 9</td>", 
        "    </tr>", 
        "  </tbody>", 
        "</table>", 
        "</div>"
       ], 
       "output_type": "pyout", 
       "prompt_number": 279, 
       "text": [
        "   1  2  3", 
        "0  2  5  9", 
        "1  3  6  9", 
        "2  4  7  9"
       ]
      }
     ], 
     "prompt_number": 279
    }, 
    {
     "cell_type": "code", 
     "collapsed": false, 
     "input": [
      "#determine avg team vbd using proj and then 1.93 std dev above it", 
      "", 
      "top_rb = rb_proj['VBD'].head(num_teams * starting_rb)", 
      "top_wr = wr_proj['VBD'].head(num_teams * starting_wr)", 
      "top_qb = qb_proj['VBD'].head(num_teams * starting_qb)", 
      "top_te= te_proj['VBD'].head(num_teams * starting_te)", 
      "top_flex = flex_proj['VBD'].head(num_teams * (starting_rb + starting_wr + starting_flex))", 
      "top_flex = top_flex[-top_flex.keys().isin(top_wr.keys() + top_rb.keys())]", 
      "avg = (sum(top_rb) + sum(top_wr) + sum(top_qb) + sum(top_te) + sum(top_flex))/num_teams ", 
      "std = 20", 
      "needed = avg + 1.29 * std", 
      "needed"
     ], 
     "language": "python", 
     "outputs": [
      {
       "output_type": "pyout", 
       "prompt_number": 492, 
       "text": [
        "360.45999999999992"
       ]
      }
     ], 
     "prompt_number": 492
    }, 
    {
     "cell_type": "code", 
     "collapsed": false, 
     "input": [
      "######STANDARD DEVIATION OF TEAM PRODUCTION", 
      "", 
      "", 
      "rb_swapped = rb_2013.swaplevel('Player', 'Week')", 
      "wr_swapped = wr_2013.swaplevel('Player', 'Week')", 
      "te_swapped = te_2013.swaplevel('Player', 'Week')", 
      "qb_swapped = qb_2013.swaplevel('Player', 'Week')", 
      "flex_swapped = flex_2013.swaplevel('Player', 'Week')", 
      "", 
      "top_rb = rb_swapped['Fan_Pts'].head(num_teams * starting_rb)", 
      "top_wr = wr_swapped['Fan_Pts'].head(num_teams * starting_wr)", 
      "top_qb = qb_swapped['Fan_Pts'].head(num_teams * starting_qb)", 
      "top_te= te_swapped['Fan_Pts'].head(num_teams * starting_te)", 
      "top_flex = flex_swapped['Fan_Pts'].head(num_teams * (starting_rb + starting_wr + starting_flex))", 
      "top_flex = top_flex[-top_flex.keys().isin(top_wr.keys() + top_rb.keys())]", 
      "", 
      "l = []", 
      "for x in range(1,18):", 
      "    week_sum = rb_swapped.ix[x]['Fan_Pts'].head(num_teams * starting_rb).sum() + wr_swapped.ix[x]['Fan_Pts'].head(num_teams * starting_wr).sum() + te_swapped.ix[x]['Fan_Pts'].head(num_teams * starting_te).sum() + qb_swapped.ix[x]['Fan_Pts'].head(num_teams * starting_qb).sum() ", 
      "    ", 
      "    l.append(week_sum)", 
      "", 
      "output = np.array(l)", 
      "np.std(l)/num_teams**0.5", 
      "    ", 
      "", 
      "    ", 
      "", 
      ""
     ], 
     "language": "python", 
     "outputs": [
      {
       "output_type": "pyout", 
       "prompt_number": 524, 
       "text": [
        "19.325837032952069"
       ]
      }
     ], 
     "prompt_number": 524
    }, 
    {
     "cell_type": "code", 
     "collapsed": false, 
     "input": [
      "qb_2013['Fan_Pts']['Peyton Manning'].values"
     ], 
     "language": "python", 
     "outputs": [
      {
       "output_type": "pyout", 
       "prompt_number": 447, 
       "text": [
        "array([ 409.98,   46.28,   35.76,   32.  ,   31.82,   31.78,   29.08,", 
        "         27.1 ,   26.64,   25.34,   24.76,   21.86,   19.98,   17.56,", 
        "         14.92,   13.1 ,   12.  ,     nan])"
       ]
      }
     ], 
     "prompt_number": 447
    }, 
    {
     "cell_type": "code", 
     "collapsed": false, 
     "input": [
      "from scipy.stats import norm", 
      "from numpy import linspace", 
      "from pylab import plot,show,hist,figure,title", 
      "", 
      "# picking 150 of from a normal distrubution", 
      "# with mean 0 and standard deviation 1", 
      "samp = norm.rvs(loc=0,scale=1,size=150) ", 
      "", 
      "param = norm.fit(samp) # distribution fitting", 
      "", 
      "# now, param[0] and param[1] are the mean and ", 
      "# the standard deviation of the fitted distribution", 
      "x = linspace(-5,5,100)", 
      "# fitted distribution", 
      "pdf_fitted = norm.pdf(x,loc=param[0],scale=param[1])", 
      "# original distribution", 
      "pdf = norm.pdf(x)", 
      "", 
      "title('Normal distribution')", 
      "plot(x,pdf_fitted,'r-',x,pdf,'b-')", 
      "hist(samp,normed=1,alpha=.3)", 
      "show()"
     ], 
     "language": "python", 
     "outputs": [], 
     "prompt_number": 482
    }, 
    {
     "cell_type": "code", 
     "collapsed": false, 
     "input": [
      "s = pd.Series({1:4, 2:7})", 
      "s.sum()"
     ], 
     "language": "python", 
     "outputs": [
      {
       "output_type": "pyout", 
       "prompt_number": 520, 
       "text": [
        "11"
       ]
      }
     ], 
     "prompt_number": 520
    }, 
    {
     "cell_type": "code", 
     "collapsed": true, 
     "input": [], 
     "language": "python", 
     "outputs": []
    }
   ]
  }
 ]
}